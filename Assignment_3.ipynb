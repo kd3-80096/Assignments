{
 "cells": [
  {
   "cell_type": "markdown",
   "metadata": {},
   "source": [
    "#### 1. Why are functions advantageous to have in your programs?\n",
    "\n",
    "\n",
    "Ans:- Use of functions enhances the readability of a program. A big code is always difficult to read. Breaking the code in smaller Functions keeps the program organized, easy to understand and makes it reusable"
   ]
  },
  {
   "cell_type": "markdown",
   "metadata": {},
   "source": [
    "#### 2. When does the code in a function run: when it's specified or when it's called?\n",
    "\n",
    "Ans:- When a function is \"called\" the program \"leaves\" the current section of code and begins to execute the first line inside the function. Thus the function \"flow of control\" is:\n",
    "\n",
    "1. The program comes to a line of code containing a \"function call\".\n",
    "2.The program enters the function (starts at the first line in the function code).\n",
    "3.All instructions inside of the function are executed from top to bottom.\n",
    "4.The program leaves the function and goes back to where it started from.\n",
    "5.Any data computed and RETURNED by the function is used in place of the function in the original line of code."
   ]
  },
  {
   "cell_type": "markdown",
   "metadata": {},
   "source": [
    "#### 3. What statement creates a function?\n",
    "\n",
    "def fun():  \n",
    "\n",
    "\n",
    "The “def” keyword is a statement for defining a function in Python.\n",
    "\n",
    "You start a function with the def keyword, specify a name followed by a colon (:) sign.\n",
    "\n",
    "\n",
    "\n",
    "\n",
    "\n"
   ]
  },
  {
   "cell_type": "markdown",
   "metadata": {},
   "source": [
    "#### 4.What is the difference between a function and a function call?\n",
    "\n",
    "\n",
    "Ans:- A function is a piece of code which enhanced the reusability and modularity of your program. It means that piece of code need not be written again.\n",
    "\n",
    "A function call means invoking or calling that function. Unless a function is called there is no use of that function."
   ]
  },
  {
   "cell_type": "markdown",
   "metadata": {},
   "source": [
    "#### 5. How many global scopes are there in a Python program? How many local scopes?  \n",
    "\n",
    "Ans:- In programming, the scope of a name defines the area of a program in which you can unambiguously access that name, such as variables, functions, objects, and so on. A name will only be visible to and accessible by the code in its scope. Several programming languages take advantage of scope for avoiding name collisions and unpredictable behaviors. Most commonly, you’ll distinguish two general scopes:\n",
    "\n",
    "Global scope: The names that you define in this scope are available to all your code.\n",
    "\n",
    "Local scope: The names that you define in this scope are only available or visible to the code within the scope\n",
    "\n",
    "\n",
    "\n",
    "The enclosing module is a global scope\n",
    "Each module is a global scope—a namespace where variables created (assigned) at the top level of a module file live.\n",
    "\n",
    "Each call to a function is a new local scope\n",
    "Every time you call a function, you create a new local scope—a namespace where names created inside the function usually live.\n",
    "\n",
    "\n"
   ]
  },
  {
   "cell_type": "markdown",
   "metadata": {},
   "source": [
    "#### 6. What happens to variables in a local scope when the function call returns?\n",
    "\n",
    "\n",
    "Ans:- When the execution of the function terminates (returns), the local variables are destroyed. Codelens helps you visualize this because the local variables disappear after the function returns."
   ]
  },
  {
   "cell_type": "markdown",
   "metadata": {},
   "source": [
    "#### 7. What is the concept of a return value? Is it possible to have a return value in an expression?\n",
    "\n",
    "\n",
    "Ans:- A return statement is used to end the execution of the function call and “returns” the result (value of the expression following the return keyword) to the caller. The statements after the return statements are not executed. If the return statement is without any expression, then the special value None is returned.\n",
    "\n",
    "Since return_42() returns a numeric value, you can use that value in a math expression or any other kind of expression in which the value has a logical or coherent meaning. This is how a caller code can take advantage of a function's return value."
   ]
  },
  {
   "cell_type": "markdown",
   "metadata": {},
   "source": [
    "#### 8. If a function does not have a return statement, what is the return value of a call to that function?\n",
    "\n",
    "Ans:- The python return statement is used in a function to return something to the caller program.\n",
    "\n",
    "We can use the return statement inside a function only.\n",
    "\n",
    "In Python, every function returns something. If there are no return statements, then it returns None.\n",
    "\n",
    "If the return statement contains an expression, it’s evaluated first and then the value is returned.\n",
    "\n",
    "The return statement terminates the function execution.\n",
    "\n",
    "A function can have multiple return statements. When any of them is executed, the function terminates.\n",
    "\n",
    "A function can return multiple types of values.\n",
    "\n",
    "Python function can return multiple values in a single return statement."
   ]
  },
  {
   "cell_type": "markdown",
   "metadata": {},
   "source": [
    "#### 9.How do you make a function variable refer to the global variable?\n",
    "\n",
    "Ans:- You can use a global variable within other functions by declaring it as global within each function that assigns a value to it.\n",
    "\n",
    "ex:- globvar = 0\n",
    "\n",
    "def set_globvar_to_one():\n",
    "\n",
    "    global globvar    # Needed to modify global copy of globvar\n",
    "    \n",
    "    globvar = 1\n",
    "\n",
    "def print_globvar():\n",
    "\n",
    "    print(globvar)     # No need for global declaration to read value of globvar\n",
    "\n",
    "set_globvar_to_one()\n",
    "\n",
    "print_globvar()       # Prints 1\n",
    "\n"
   ]
  },
  {
   "cell_type": "code",
   "execution_count": 2,
   "metadata": {},
   "outputs": [
    {
     "name": "stdout",
     "output_type": "stream",
     "text": [
      "1\n"
     ]
    }
   ],
   "source": [
    "def set_globvar_to_one():\n",
    "\n",
    "    global globvar    # Needed to modify global copy of globvar\n",
    "\n",
    "globvar = 1\n",
    "def print_globvar():\n",
    "\n",
    "    print(globvar)     # No need for global declaration to read value of globvar\n",
    "set_globvar_to_one()\n",
    "\n",
    "print_globvar() # Prints 1"
   ]
  },
  {
   "cell_type": "markdown",
   "metadata": {},
   "source": [
    "#### 10. What is the data type of None?\n",
    "\n",
    "Ans:- The None keyword is used to define a null value, or no value at all. None is not the same as 0, False, or an empty string.\n",
    "None is a data type of its own which is NoneType and only None can be None\n",
    "\n",
    "\n"
   ]
  },
  {
   "cell_type": "code",
   "execution_count": 5,
   "metadata": {},
   "outputs": [],
   "source": [
    "a=None"
   ]
  },
  {
   "cell_type": "code",
   "execution_count": 6,
   "metadata": {},
   "outputs": [
    {
     "data": {
      "text/plain": [
       "NoneType"
      ]
     },
     "execution_count": 6,
     "metadata": {},
     "output_type": "execute_result"
    }
   ],
   "source": [
    "type(a)"
   ]
  },
  {
   "cell_type": "markdown",
   "metadata": {},
   "source": [
    "#### 11. What does the sentence import areallyourpetsnamederic do?\n",
    "\n",
    "Ans:- That import statement imports a module named areallyourpetsnamederic . (This isn't a real Python module, by the way.)"
   ]
  },
  {
   "cell_type": "code",
   "execution_count": 8,
   "metadata": {},
   "outputs": [
    {
     "ename": "ModuleNotFoundError",
     "evalue": "No module named 'areallyourpetsnamederic'",
     "output_type": "error",
     "traceback": [
      "\u001b[1;31m---------------------------------------------------------------------------\u001b[0m",
      "\u001b[1;31mModuleNotFoundError\u001b[0m                       Traceback (most recent call last)",
      "\u001b[1;32m<ipython-input-8-b1ea9cb2228f>\u001b[0m in \u001b[0;36m<module>\u001b[1;34m\u001b[0m\n\u001b[1;32m----> 1\u001b[1;33m \u001b[1;32mimport\u001b[0m \u001b[0mareallyourpetsnamederic\u001b[0m\u001b[1;33m\u001b[0m\u001b[1;33m\u001b[0m\u001b[0m\n\u001b[0m",
      "\u001b[1;31mModuleNotFoundError\u001b[0m: No module named 'areallyourpetsnamederic'"
     ]
    }
   ],
   "source": [
    " import areallyourpetsnamederic"
   ]
  },
  {
   "cell_type": "markdown",
   "metadata": {},
   "source": [
    "#### 12. If you had a bacon() feature in a spam module, what would you call it after importing spam?\n",
    "\n",
    "Ans:-  This function can be called with spam. bacon()."
   ]
  },
  {
   "cell_type": "markdown",
   "metadata": {},
   "source": [
    "#### 13. What can you do to save a programme from crashing if it encounters an error?\n",
    "\n",
    "Ans:- When it encounters an error, the control is passed to the except block, skipping the code in between. As seen in the above code, we have moved our code inside a try and except statement. Try running the program and it should throw an error message instead of crashing the program"
   ]
  },
  {
   "cell_type": "markdown",
   "metadata": {},
   "source": [
    "#### 14. What is the purpose of the try clause? What is the purpose of the except clause?\n",
    "\n",
    "Ans:- The try block lets you test a block of code for errors. The except block lets you handle the error. The else block lets you execute code when there is no error."
   ]
  },
  {
   "cell_type": "code",
   "execution_count": null,
   "metadata": {},
   "outputs": [],
   "source": []
  }
 ],
 "metadata": {
  "kernelspec": {
   "display_name": "Python 3",
   "language": "python",
   "name": "python3"
  },
  "language_info": {
   "codemirror_mode": {
    "name": "ipython",
    "version": 3
   },
   "file_extension": ".py",
   "mimetype": "text/x-python",
   "name": "python",
   "nbconvert_exporter": "python",
   "pygments_lexer": "ipython3",
   "version": "3.8.0"
  }
 },
 "nbformat": 4,
 "nbformat_minor": 4
}
