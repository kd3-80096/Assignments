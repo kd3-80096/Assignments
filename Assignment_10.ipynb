{
 "cells": [
  {
   "cell_type": "markdown",
   "id": "4699ad81",
   "metadata": {},
   "source": [
    "1. How do you distinguish between shutil.copy() and shutil.copytree()?\n",
    "\n",
    "Ans:-The shutil.copy() function will copy a single file, while shutil.copytree() will copy an entire folder, along with all its contents"
   ]
  },
  {
   "cell_type": "markdown",
   "id": "9929d19a",
   "metadata": {},
   "source": [
    "2. What function is used to rename files??\n",
    "\n",
    "Ans:- rename() function is used to change the name of the file or directory i.e. from old_name to new_name without changing the content present in the file. This function takes name of the file as its argument."
   ]
  },
  {
   "cell_type": "markdown",
   "id": "b661301e",
   "metadata": {},
   "source": [
    "3. What is the difference between the delete functions in the send2trash and shutil modules?\n",
    "\n",
    "Ans:- The send2trash functions will move a file or folder to the recycle bin, while shutil functions will permanently delete files and folders."
   ]
  },
  {
   "cell_type": "markdown",
   "id": "5338f137",
   "metadata": {},
   "source": [
    "4.ZipFile objects have a close() method just like File objects’ close() method. What ZipFile method is equivalent to File objects’ open() method?\n",
    "\n",
    "Ans:- The zipfile.ZipFile() function is equivalent to the open() function; the first argument is the filename, and the second argument is the mode to open the ZIP file in (read, write, or append)."
   ]
  },
  {
   "cell_type": "markdown",
   "id": "9a257984",
   "metadata": {},
   "source": [
    "5. Create a programme that searches a folder tree for files with a certain file extension (such as .pdf or .jpg). Copy these files from whatever location they are in to a new folder.\n",
    "\n",
    "Ans:-"
   ]
  },
  {
   "cell_type": "code",
   "execution_count": 3,
   "id": "33e84349",
   "metadata": {},
   "outputs": [],
   "source": [
    "import os\n",
    "import shutil\n",
    "\n",
    "def get_files_recursively(start_directory, filter_extension=None):\n",
    "    for root, _, files in os.walk(start_directory):\n",
    "        for file in files:\n",
    "            if filter_extension is None or file.lower().endswith(filter_extension):\n",
    "                yield os.path.join(root, file)\n",
    "\n",
    "def selective_copy(source, target, file_extension=None):\n",
    "    for file in get_files_recursively(source, file_extension):\n",
    "        print(file)\n",
    "        shutil.copy(file, target)\n",
    "        print(\"The following file has been copied\", file)\n",
    "\n",
    "if __name__ == \"__main__\":\n",
    "    selective_copy(\"/Users/my_user_name/Desktop/newPDFs\",\n",
    "                   \"/Users/my_user_name/Desktop/oldPDFs\",\n",
    "                   \".pdf\")"
   ]
  },
  {
   "cell_type": "code",
   "execution_count": null,
   "id": "ea026e11",
   "metadata": {},
   "outputs": [],
   "source": []
  },
  {
   "cell_type": "code",
   "execution_count": null,
   "id": "17a77a5a",
   "metadata": {},
   "outputs": [],
   "source": []
  }
 ],
 "metadata": {
  "kernelspec": {
   "display_name": "Python 3 (ipykernel)",
   "language": "python",
   "name": "python3"
  },
  "language_info": {
   "codemirror_mode": {
    "name": "ipython",
    "version": 3
   },
   "file_extension": ".py",
   "mimetype": "text/x-python",
   "name": "python",
   "nbconvert_exporter": "python",
   "pygments_lexer": "ipython3",
   "version": "3.9.7"
  }
 },
 "nbformat": 4,
 "nbformat_minor": 5
}
